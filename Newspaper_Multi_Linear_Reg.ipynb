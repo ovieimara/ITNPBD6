{
  "cells": [
    {
      "cell_type": "markdown",
      "metadata": {
        "id": "view-in-github",
        "colab_type": "text"
      },
      "source": [
        "<a href=\"https://colab.research.google.com/github/ovieimara/ITNPBD6/blob/master/Newspaper_Multi_Linear_Reg.ipynb\" target=\"_parent\"><img src=\"https://colab.research.google.com/assets/colab-badge.svg\" alt=\"Open In Colab\"/></a>"
      ]
    },
    {
      "cell_type": "markdown",
      "metadata": {
        "id": "fQjDmtLZSAmQ"
      },
      "source": [
        "# Multiple Linear Regression with Numeric Values\n",
        "## Newspaper sales prediction Example\n",
        "This notebook uses multiple linear regression to predict newspaper sales from Advert Spend, Price, Offered Prize Value and whether or not it was Wet that day.\n",
        "  \n",
        "All of the variables are numeric and the data are clean, so only the basic steps of performing regresison are given. No hyper-parameter searching is included, so no validation data are used.\n",
        "\n",
        "\n",
        "Note: at various points this week we're using numpy arrays rather than pandas dataframes. Scikit-learn can handle both; in many circumstances numpy arrays are faster, but the syntax is a bit different (often more complex). You'll see many examples of numpy and scikit-learn if you look around the web, so it's helpful to see this alternative approach."
      ]
    },
    {
      "cell_type": "code",
      "execution_count": 1,
      "metadata": {
        "id": "PJidB8SdSAmS"
      },
      "outputs": [],
      "source": [
        "from sklearn.model_selection import train_test_split\n",
        "from sklearn.linear_model import LinearRegression\n",
        "from sklearn import metrics\n",
        "import numpy as np"
      ]
    },
    {
      "cell_type": "markdown",
      "metadata": {
        "id": "IXDs7cR3SAmT"
      },
      "source": [
        "## Load the Data\n",
        "You should download the file called `Newspaper_Numeric.csv` from the course website and put it in a folder accessible to this notebook. In the code below, we assume it is in the same folder as the notebook. Change the code if it is somewhere else."
      ]
    },
    {
      "cell_type": "code",
      "execution_count": 3,
      "metadata": {
        "colab": {
          "base_uri": "https://localhost:8080/"
        },
        "id": "B5UZvL0JSAmT",
        "outputId": "3b6505af-8b49-4414-8b22-d52478a4c790"
      },
      "outputs": [
        {
          "output_type": "execute_result",
          "data": {
            "text/plain": [
              "array([[1.7570e+03, 6.0000e+01, 3.0000e+01, 1.0000e+00, 5.0611e+04],\n",
              "       [1.6950e+03, 4.5000e+01, 3.0000e+01, 1.0000e+00, 4.5457e+04],\n",
              "       [2.3590e+03, 4.5000e+01, 7.0000e+01, 0.0000e+00, 7.2836e+04],\n",
              "       ...,\n",
              "       [1.2350e+03, 6.5000e+01, 7.0000e+01, 0.0000e+00, 5.2755e+04],\n",
              "       [1.5980e+03, 6.0000e+01, 4.0000e+01, 0.0000e+00, 5.1524e+04],\n",
              "       [2.2290e+03, 5.0000e+01, 4.0000e+01, 0.0000e+00, 6.5331e+04]])"
            ]
          },
          "metadata": {},
          "execution_count": 3
        }
      ],
      "source": [
        "data = np.loadtxt('Newspaper_Numeric.csv', delimiter=\",\", skiprows=1)\n",
        "data"
      ]
    },
    {
      "cell_type": "markdown",
      "metadata": {
        "id": "M7YyziULSAmU"
      },
      "source": [
        "## Extract the Inputs and Outputs - single input\n",
        "We'll begin with a simple linear regression: that is predicting a single output variable from a single input variable.\n",
        "\n",
        "The target output variable, `sales` is the last column in the file, so we put that into a variable called `y`. `advert spend` is our input, in column 0, which we put into `X`. Then we split off 30% for testing."
      ]
    },
    {
      "cell_type": "code",
      "execution_count": 4,
      "metadata": {
        "id": "IMV5uYkSSAmU"
      },
      "outputs": [],
      "source": [
        "cols = data.shape[1]\n",
        "X = data[:,0:1]\n",
        "y = data[:,cols-1]\n",
        "X_train, X_test, y_train, y_test = train_test_split(X, y, test_size=0.30)"
      ]
    },
    {
      "cell_type": "markdown",
      "metadata": {
        "id": "bDRTCf0BSAmU"
      },
      "source": [
        "## Build the Regression Model\n",
        "We fit the regression model next and print the R-squared value."
      ]
    },
    {
      "cell_type": "code",
      "execution_count": 5,
      "metadata": {
        "colab": {
          "base_uri": "https://localhost:8080/"
        },
        "id": "EYeqy_jVSAmU",
        "outputId": "46b87dbf-9b3d-481b-ade9-e72b8c8d383d"
      },
      "outputs": [
        {
          "output_type": "stream",
          "name": "stdout",
          "text": [
            "R Squared = 0.7262845381804389\n",
            "Coefficients and intercept = [14.71172193] 29713.039315480128\n"
          ]
        }
      ],
      "source": [
        "# make a new regression model object, and fit it to the data\n",
        "reg = LinearRegression().fit(X_train, y_train)\n",
        "\n",
        "# we can interrogate this object for the trained model coefficients and r^2 achieved on the training data\n",
        "print(\"R Squared =\",reg.score(X, y))\n",
        "print(\"Coefficients and intercept =\",reg.coef_, reg.intercept_)"
      ]
    },
    {
      "cell_type": "markdown",
      "metadata": {
        "id": "bvGtmeMwSAmV"
      },
      "source": [
        "## Finally, Predict on the Test Data\n",
        "We predict the values for the test data and calculate the mean absolute error for that data. Try other metrics in the second line."
      ]
    },
    {
      "cell_type": "code",
      "execution_count": 6,
      "metadata": {
        "colab": {
          "base_uri": "https://localhost:8080/"
        },
        "id": "8IxDePWLSAmV",
        "outputId": "45d71139-1933-472d-93de-0e8bf4e17706"
      },
      "outputs": [
        {
          "output_type": "stream",
          "name": "stdout",
          "text": [
            "Mean Absolute Error on test = 3465.7932054853964\n"
          ]
        }
      ],
      "source": [
        "preds = reg.predict(X_test)\n",
        "test_MAE = metrics.mean_absolute_error(y_test, preds)\n",
        "print(\"Mean Absolute Error on test =\",test_MAE)"
      ]
    },
    {
      "cell_type": "code",
      "source": [
        "r_squared_error = metrics.r2_score(y_test, preds)\n",
        "print(r_squared_error)\n",
        "mean_squared_error = metrics.mean_squared_error(y_test, preds)\n",
        "print(mean_squared_error)\n"
      ],
      "metadata": {
        "colab": {
          "base_uri": "https://localhost:8080/"
        },
        "id": "4CITPJbMUlVq",
        "outputId": "6eeb0553-d63c-46a1-89b6-f4e0bc3ec506"
      },
      "execution_count": 11,
      "outputs": [
        {
          "output_type": "stream",
          "name": "stdout",
          "text": [
            "0.7939208253497808\n",
            "18093770.68386469\n"
          ]
        }
      ]
    },
    {
      "cell_type": "markdown",
      "metadata": {
        "id": "h8pii2SZSAmV"
      },
      "source": [
        "## Extract the Inputs and Outputs - multiple inputs\n",
        "Now we'll try multiple linear regression.\n",
        "\n",
        "The target output variable, `sales` is the last column in the file, so we put that into a variable called `y` and the other, input, columns into `X`. Then we split off 30% for testing."
      ]
    },
    {
      "cell_type": "code",
      "execution_count": 13,
      "metadata": {
        "id": "Vdd7QyF5SAmW"
      },
      "outputs": [],
      "source": [
        "# how many columns are in the data?\n",
        "cols = data.shape[1]\n",
        "\n",
        "# get the feature columns\n",
        "X = data[:,0:cols-1]\n",
        "\n",
        "# the target variable is in the last column\n",
        "y = data[:,cols-1]\n",
        "\n",
        "# train/test split\n",
        "X_train, X_test, y_train, y_test = train_test_split(X, y, test_size=0.30)"
      ]
    },
    {
      "cell_type": "markdown",
      "metadata": {
        "id": "RXLNQzp9SAmW"
      },
      "source": [
        "## Build the Regression Model\n",
        "We fit the regression model next and print the R-squared value. It should be a bit better than the score for simple linear regression."
      ]
    },
    {
      "cell_type": "code",
      "execution_count": 14,
      "metadata": {
        "colab": {
          "base_uri": "https://localhost:8080/"
        },
        "id": "m9eN1EGCSAmW",
        "outputId": "adae4c52-b61f-45a7-976d-9dbea553ba2b"
      },
      "outputs": [
        {
          "output_type": "stream",
          "name": "stdout",
          "text": [
            "R Squared = 0.8315795565670185\n",
            "Coefficients and intercept = [   14.98317875  -126.40657446    88.25701868 -2804.81612855] 31957.993396006048\n"
          ]
        }
      ],
      "source": [
        "reg = LinearRegression().fit(X_train, y_train)\n",
        "print(\"R Squared =\",reg.score(X, y))\n",
        "print(\"Coefficients and intercept =\",reg.coef_, reg.intercept_)"
      ]
    },
    {
      "cell_type": "markdown",
      "metadata": {
        "id": "8_OOvTL5SAmW"
      },
      "source": [
        "## Finally, Predict on the Test Data\n",
        "We predict the values for the test data and calculate the mean absolute error for that data. Try other metrics in the second line."
      ]
    },
    {
      "cell_type": "code",
      "execution_count": 15,
      "metadata": {
        "colab": {
          "base_uri": "https://localhost:8080/"
        },
        "id": "LdRRS0yzSAmW",
        "outputId": "5d2ab9dd-ea43-416a-8d5a-8af24119582f"
      },
      "outputs": [
        {
          "output_type": "stream",
          "name": "stdout",
          "text": [
            "Mean Absolute Error on test = 3145.8335433344587\n"
          ]
        }
      ],
      "source": [
        "preds = reg.predict(X_test)\n",
        "test_MAE = metrics.mean_absolute_error(y_test, preds)\n",
        "print(\"Mean Absolute Error on test =\",test_MAE)"
      ]
    }
  ],
  "metadata": {
    "kernelspec": {
      "display_name": "Python 3 (ipykernel)",
      "language": "python",
      "name": "python3"
    },
    "language_info": {
      "codemirror_mode": {
        "name": "ipython",
        "version": 3
      },
      "file_extension": ".py",
      "mimetype": "text/x-python",
      "name": "python",
      "nbconvert_exporter": "python",
      "pygments_lexer": "ipython3",
      "version": "3.11.4"
    },
    "colab": {
      "provenance": [],
      "include_colab_link": true
    }
  },
  "nbformat": 4,
  "nbformat_minor": 0
}